{
 "cells": [
  {
   "metadata": {},
   "cell_type": "markdown",
   "source": "# Laboratorio 1",
   "id": "8a77807f92f26ee"
  },
  {
   "metadata": {
    "ExecuteTime": {
     "end_time": "2024-11-03T22:48:09.351477Z",
     "start_time": "2024-11-03T22:48:09.346832Z"
    }
   },
   "cell_type": "code",
   "source": [
    "import pandas as pd\n",
    "import joblib\n",
    "from sklearn.linear_model import LinearRegression\n",
    "from sklearn.ensemble import RandomForestRegressor, GradientBoostingRegressor\n",
    "from sklearn.model_selection import train_test_split, GridSearchCV, RandomizedSearchCV, cross_val_score\n",
    "from sklearn.preprocessing import StandardScaler, OneHotEncoder\n",
    "from sklearn.compose import ColumnTransformer\n",
    "from sklearn.pipeline import Pipeline\n",
    "from sklearn.metrics import mean_squared_error, r2_score, f1_score, accuracy_score\n",
    "import numpy as np\n",
    "import yaml"
   ],
   "id": "fbc121e30a2defb3",
   "outputs": [],
   "execution_count": 43
  },
  {
   "metadata": {},
   "cell_type": "markdown",
   "source": "## Exploracion y Visualizacion de Datos",
   "id": "5690aa54d6df1675"
  },
  {
   "metadata": {
    "ExecuteTime": {
     "end_time": "2024-11-03T22:21:49.207586Z",
     "start_time": "2024-11-03T22:21:49.189222Z"
    }
   },
   "cell_type": "code",
   "source": [
    "with open('data/params.yaml', 'r') as file:\n",
    "    params = yaml.safe_load(file)"
   ],
   "id": "a98018fecc768e80",
   "outputs": [
    {
     "ename": "NameError",
     "evalue": "name '__file__' is not defined",
     "output_type": "error",
     "traceback": [
      "\u001B[0;31m---------------------------------------------------------------------------\u001B[0m",
      "\u001B[0;31mNameError\u001B[0m                                 Traceback (most recent call last)",
      "Cell \u001B[0;32mIn[28], line 1\u001B[0m\n\u001B[0;32m----> 1\u001B[0m models_dir \u001B[38;5;241m=\u001B[39m os\u001B[38;5;241m.\u001B[39mpath\u001B[38;5;241m.\u001B[39mjoin(os\u001B[38;5;241m.\u001B[39mpath\u001B[38;5;241m.\u001B[39mdirname(\u001B[38;5;18m__file__\u001B[39m), \u001B[38;5;124m'\u001B[39m\u001B[38;5;124mmodels\u001B[39m\u001B[38;5;124m'\u001B[39m)\n\u001B[1;32m      3\u001B[0m \u001B[38;5;28;01mwith\u001B[39;00m \u001B[38;5;28mopen\u001B[39m(\u001B[38;5;124m'\u001B[39m\u001B[38;5;124mdata/params.yaml\u001B[39m\u001B[38;5;124m'\u001B[39m, \u001B[38;5;124m'\u001B[39m\u001B[38;5;124mr\u001B[39m\u001B[38;5;124m'\u001B[39m) \u001B[38;5;28;01mas\u001B[39;00m file:\n\u001B[1;32m      4\u001B[0m     params \u001B[38;5;241m=\u001B[39m yaml\u001B[38;5;241m.\u001B[39msafe_load(file)\n",
      "\u001B[0;31mNameError\u001B[0m: name '__file__' is not defined"
     ]
    }
   ],
   "execution_count": 28
  },
  {
   "metadata": {
    "ExecuteTime": {
     "end_time": "2024-11-03T21:05:28.919134Z",
     "start_time": "2024-11-03T21:05:28.886128Z"
    }
   },
   "cell_type": "code",
   "source": [
    "data = pd.read_csv('data/data.csv')\n",
    "\n",
    "print(data.head())\n",
    "\n",
    "missing_values = data.isnull().sum()\n",
    "print(\"Valores faltantes por columna:\")\n",
    "print(missing_values)"
   ],
   "id": "dab470a69cbb9e0c",
   "outputs": [
    {
     "name": "stdout",
     "output_type": "stream",
     "text": [
      "      price  area  bedrooms  bathrooms  stories mainroad guestroom basement  \\\n",
      "0  13300000  7420         4          2        3      yes        no       no   \n",
      "1  12250000  8960         4          4        4      yes        no       no   \n",
      "2  12250000  9960         3          2        2      yes        no      yes   \n",
      "3  12215000  7500         4          2        2      yes        no      yes   \n",
      "4  11410000  7420         4          1        2      yes       yes      yes   \n",
      "\n",
      "  hotwaterheating airconditioning  parking prefarea furnishingstatus  \n",
      "0              no             yes        2      yes        furnished  \n",
      "1              no             yes        3       no        furnished  \n",
      "2              no              no        2      yes   semi-furnished  \n",
      "3              no             yes        3      yes        furnished  \n",
      "4              no             yes        2       no        furnished  \n",
      "Valores faltantes por columna:\n",
      "price               0\n",
      "area                0\n",
      "bedrooms            0\n",
      "bathrooms           0\n",
      "stories             0\n",
      "mainroad            0\n",
      "guestroom           0\n",
      "basement            0\n",
      "hotwaterheating     0\n",
      "airconditioning     0\n",
      "parking             0\n",
      "prefarea            0\n",
      "furnishingstatus    0\n",
      "dtype: int64\n"
     ]
    }
   ],
   "execution_count": 3
  },
  {
   "metadata": {},
   "cell_type": "markdown",
   "source": "## Procesamiento de datos",
   "id": "62ca77ce515f9de9"
  },
  {
   "metadata": {
    "ExecuteTime": {
     "end_time": "2024-11-03T21:14:18.353288Z",
     "start_time": "2024-11-03T21:14:18.340820Z"
    }
   },
   "cell_type": "code",
   "source": [
    "X = data[params['preprocessing']['features']]\n",
    "y = data[params['preprocessing']['target']]"
   ],
   "id": "398552a770c1f8b4",
   "outputs": [],
   "execution_count": 9
  },
  {
   "metadata": {
    "ExecuteTime": {
     "end_time": "2024-11-03T21:14:31.972991Z",
     "start_time": "2024-11-03T21:14:31.967931Z"
    }
   },
   "cell_type": "code",
   "source": [
    "num_features = X.select_dtypes(include=['int64', 'float64']).columns\n",
    "cat_features = X.select_dtypes(include=['object', 'category']).columns"
   ],
   "id": "4b6f1c4b5cbd8627",
   "outputs": [],
   "execution_count": 10
  },
  {
   "metadata": {
    "ExecuteTime": {
     "end_time": "2024-11-03T21:14:58.496241Z",
     "start_time": "2024-11-03T21:14:58.493600Z"
    }
   },
   "cell_type": "code",
   "source": [
    "preprocessor = ColumnTransformer(\n",
    "    transformers=[\n",
    "        ('num', StandardScaler(), num_features),\n",
    "        ('cat', OneHotEncoder(), cat_features)\n",
    "    ]\n",
    ")"
   ],
   "id": "8085d8748d5f2401",
   "outputs": [],
   "execution_count": 11
  },
  {
   "metadata": {
    "ExecuteTime": {
     "end_time": "2024-11-03T21:15:07.660796Z",
     "start_time": "2024-11-03T21:15:07.652486Z"
    }
   },
   "cell_type": "code",
   "source": [
    "X_train, X_test, y_train, y_test = train_test_split(\n",
    "    X, y, \n",
    "    test_size=params['train']['test_size'], \n",
    "    random_state=params['train']['random_state']\n",
    ")"
   ],
   "id": "6db7bdde82a43468",
   "outputs": [],
   "execution_count": 12
  },
  {
   "metadata": {
    "ExecuteTime": {
     "end_time": "2024-11-03T21:15:13.918794Z",
     "start_time": "2024-11-03T21:15:13.916126Z"
    }
   },
   "cell_type": "code",
   "source": "pipeline = Pipeline(steps=[('preprocessor', preprocessor)])",
   "id": "1579eefcd4125628",
   "outputs": [],
   "execution_count": 13
  },
  {
   "metadata": {
    "ExecuteTime": {
     "end_time": "2024-11-03T21:15:19.843145Z",
     "start_time": "2024-11-03T21:15:19.829360Z"
    }
   },
   "cell_type": "code",
   "source": [
    "X_train = pipeline.fit_transform(X_train)\n",
    "X_test = pipeline.transform(X_test)"
   ],
   "id": "23d1206250a31d80",
   "outputs": [],
   "execution_count": 14
  },
  {
   "metadata": {
    "ExecuteTime": {
     "end_time": "2024-11-03T21:15:26.801362Z",
     "start_time": "2024-11-03T21:15:26.798327Z"
    }
   },
   "cell_type": "code",
   "source": [
    "print(\"Tamaño de X_train:\", X_train.shape)\n",
    "print(\"Tamaño de X_test:\", X_test.shape)"
   ],
   "id": "f2e4fc19e57b3073",
   "outputs": [
    {
     "name": "stdout",
     "output_type": "stream",
     "text": [
      "Tamaño de X_train: (436, 5)\n",
      "Tamaño de X_test: (109, 5)\n"
     ]
    }
   ],
   "execution_count": 15
  },
  {
   "metadata": {
    "ExecuteTime": {
     "end_time": "2024-11-03T22:07:09.260820Z",
     "start_time": "2024-11-03T22:07:09.257363Z"
    }
   },
   "cell_type": "code",
   "source": [
    "models = {\n",
    "    'linear_regression': LinearRegression(**params['train']['models']['linear_regression']),\n",
    "    'random_forest': RandomForestRegressor(**params['train']['models']['random_forest']),\n",
    "    'gradient_boosting': GradientBoostingRegressor(**params['train']['models']['gradient_boosting'])\n",
    "}"
   ],
   "id": "e25f7623c3fcbe6",
   "outputs": [],
   "execution_count": 21
  },
  {
   "metadata": {
    "ExecuteTime": {
     "end_time": "2024-11-03T22:16:59.980660Z",
     "start_time": "2024-11-03T22:16:59.699251Z"
    }
   },
   "cell_type": "code",
   "source": [
    "results = {}\n",
    "\n",
    "for model_name, model in models.items():\n",
    "    model.fit(X_train, y_train)\n",
    "    joblib.dump(model, f\"models/{model_name}.pkl\")  # Cambia la ruta si es necesario\n",
    "    predictions = model.predict(X_test)\n",
    "    mse = mean_squared_error(y_test, predictions)\n",
    "    results[model_name] = mse\n",
    "    print(f\"{model_name} entrenado. MSE: {mse}\")\n"
   ],
   "id": "74f948ba7e2bc39",
   "outputs": [
    {
     "name": "stdout",
     "output_type": "stream",
     "text": [
      "linear_regression entrenado. MSE: 2292721545725.366\n",
      "random_forest entrenado. MSE: 2624181958775.779\n",
      "gradient_boosting entrenado. MSE: 2400360173639.197\n"
     ]
    }
   ],
   "execution_count": 24
  },
  {
   "metadata": {
    "ExecuteTime": {
     "end_time": "2024-11-03T22:07:33.668746Z",
     "start_time": "2024-11-03T22:07:33.665439Z"
    }
   },
   "cell_type": "code",
   "source": [
    "best_model = min(results, key=results.get)\n",
    "print(\"El mejor modelo es:\", best_model, \"con un MSE de:\", results[best_model])"
   ],
   "id": "4b706c76cac7ddf1",
   "outputs": [
    {
     "name": "stdout",
     "output_type": "stream",
     "text": [
      "El mejor modelo es: linear_regression con un MSE de: 2292721545725.366\n"
     ]
    }
   ],
   "execution_count": 23
  },
  {
   "metadata": {},
   "cell_type": "markdown",
   "source": "## Optimizacion y validacion cruzada",
   "id": "554a7413e330f0d2"
  },
  {
   "metadata": {
    "ExecuteTime": {
     "end_time": "2024-11-03T22:34:03.510272Z",
     "start_time": "2024-11-03T22:34:03.506890Z"
    }
   },
   "cell_type": "code",
   "source": [
    "param_grid = {\n",
    "    'linear_regression': {\n",
    "        'fit_intercept': [True, False],\n",
    "        'n_jobs': [None, -1]\n",
    "    },\n",
    "    'random_forest': {\n",
    "        'n_estimators': [50, 100, 200],\n",
    "        'max_depth': [None, 10, 20],\n",
    "        'min_samples_split': [2, 5, 10]\n",
    "    },\n",
    "    'gradient_boosting': {\n",
    "        'n_estimators': [50, 100, 200],\n",
    "        'learning_rate': [0.01, 0.1, 0.2],\n",
    "        'max_depth': [3, 5, 7]\n",
    "    }\n",
    "}"
   ],
   "id": "88869c3c6d5db5e6",
   "outputs": [],
   "execution_count": 29
  },
  {
   "metadata": {
    "ExecuteTime": {
     "end_time": "2024-11-03T22:34:05.457773Z",
     "start_time": "2024-11-03T22:34:05.454729Z"
    }
   },
   "cell_type": "code",
   "source": [
    "models = {\n",
    "    'linear_regression': LinearRegression(),\n",
    "    'random_forest': RandomForestRegressor(random_state=params['train']['random_state']),\n",
    "    'gradient_boosting': GradientBoostingRegressor(random_state=params['train']['random_state'])\n",
    "}"
   ],
   "id": "8df5757fc1f42828",
   "outputs": [],
   "execution_count": 30
  },
  {
   "metadata": {
    "ExecuteTime": {
     "end_time": "2024-11-03T22:34:13.920359Z",
     "start_time": "2024-11-03T22:34:13.915932Z"
    }
   },
   "cell_type": "code",
   "source": [
    "best_models = {}\n",
    "results = {}"
   ],
   "id": "ed644ed10bf46ac2",
   "outputs": [],
   "execution_count": 31
  },
  {
   "metadata": {
    "ExecuteTime": {
     "end_time": "2024-11-03T22:36:20.901869Z",
     "start_time": "2024-11-03T22:36:18.162137Z"
    }
   },
   "cell_type": "code",
   "source": [
    "for model_name, model in models.items():\n",
    "    print(f\"Optimizando {model_name}...\")\n",
    "    \n",
    "    if model_name == 'linear_regression':\n",
    "        search = GridSearchCV(\n",
    "            model, param_grid[model_name], cv=5, scoring='neg_mean_squared_error', n_jobs=-1\n",
    "        )\n",
    "    else:\n",
    "        search = RandomizedSearchCV(\n",
    "            model, param_grid[model_name], n_iter=10, cv=5, scoring='neg_mean_squared_error', random_state=params['train']['random_state'], n_jobs=-1\n",
    "        )\n",
    "    \n",
    "    search.fit(X_train, y_train)\n",
    "    best_models[model_name] = search.best_estimator_\n",
    "    cv_score = cross_val_score(search.best_estimator_, X_train, y_train, cv=5, scoring='neg_mean_squared_error')\n",
    "    results[model_name] = {\n",
    "        'best_params': search.best_params_,\n",
    "        'cv_score': -np.mean(cv_score)\n",
    "    }\n",
    "    print(f\"Mejores hiperparámetros para {model_name}: {search.best_params_}\")\n",
    "    print(f\"Error de validación cruzada (MSE): {-np.mean(cv_score)}\")"
   ],
   "id": "46e58835dcf0c59a",
   "outputs": [
    {
     "name": "stdout",
     "output_type": "stream",
     "text": [
      "Optimizando linear_regression...\n",
      "Mejores hiperparámetros para linear_regression: {'fit_intercept': True, 'n_jobs': None}\n",
      "Error de validación cruzada (MSE): 1414425048943.1414\n",
      "Optimizando random_forest...\n",
      "Mejores hiperparámetros para random_forest: {'n_estimators': 50, 'min_samples_split': 10, 'max_depth': 20}\n",
      "Error de validación cruzada (MSE): 1487186680444.4905\n",
      "Optimizando gradient_boosting...\n",
      "Mejores hiperparámetros para gradient_boosting: {'n_estimators': 50, 'max_depth': 3, 'learning_rate': 0.1}\n",
      "Error de validación cruzada (MSE): 1530581551298.8262\n"
     ]
    }
   ],
   "execution_count": 37
  },
  {
   "metadata": {
    "ExecuteTime": {
     "end_time": "2024-11-03T22:47:28.073470Z",
     "start_time": "2024-11-03T22:47:28.028583Z"
    }
   },
   "cell_type": "code",
   "source": [
    "# Identificar el mejor modelo basado en el resultado de la validación cruzada\n",
    "best_model_name = min(results, key=lambda k: results[k]['cv_score'])\n",
    "mejor_modelo = best_models[best_model_name]\n",
    "\n",
    "print(\"\\nEl mejor modelo es:\", best_model_name)\n",
    "print(\"Con MSE de validación cruzada:\", results[best_model_name]['cv_score'])\n",
    "print(\"Mejores hiperparámetros:\", results[best_model_name]['best_params'])\n",
    "\n",
    "# Evaluar el mejor modelo y calcular las métricas\n",
    "metrics, predictions = evaluate_model(mejor_modelo, X_test, y_test, is_classification=False)\n",
    "\n",
    "# Mostrar las métricas de rendimiento\n",
    "print(\"\\nMétricas de rendimiento del mejor modelo:\")\n",
    "for metric, value in metrics.items():\n",
    "    print(f\"{metric}: {value:.4f}\")\n",
    "\n",
    "# Obtener la importancia de características si es aplicable\n",
    "if hasattr(mejor_modelo, 'feature_importances_'):\n",
    "    feature_importances = mejor_modelo.feature_importances_\n",
    "    features_df = pd.DataFrame({\n",
    "        'Feature': X.columns,\n",
    "        'Importance': feature_importances\n",
    "    }).sort_values(by='Importance', ascending=False)\n",
    "    print(\"\\nImportancia de características:\")\n",
    "    print(features_df)\n",
    "else:\n",
    "    print(\"\\nEl modelo seleccionado no proporciona información de importancia de características.\")\n",
    "\n",
    "# Exportar los resultados a CSV y Markdown\n",
    "results_df = pd.DataFrame({\n",
    "    'Metric': list(metrics.keys()),\n",
    "    'Value': list(metrics.values())\n",
    "})\n",
    "results_csv_path = 'results/model_metrics.csv'\n",
    "results_md_path = 'results/model_metrics.md'\n",
    "\n",
    "# Crear la carpeta 'results' si no existe\n",
    "if not os.path.exists('results'):\n",
    "    os.makedirs('results')\n",
    "\n",
    "# Exportar a CSV\n",
    "results_df.to_csv(results_csv_path, index=False)\n",
    "print(f\"\\nResultados exportados a {results_csv_path}\")\n",
    "\n",
    "# Exportar a Markdown\n",
    "with open(results_md_path, 'w') as f:\n",
    "    f.write(results_df.to_markdown(index=False))\n",
    "print(f\"Resultados exportados a {results_md_path}\")\n",
    "\n",
    "# Exportar la importancia de características si existe\n",
    "if hasattr(mejor_modelo, 'feature_importances_'):\n",
    "    feature_importances_csv_path = 'results/feature_importances.csv'\n",
    "    features_df.to_csv(feature_importances_csv_path, index=False)\n",
    "    print(f\"Importancia de características exportada a {feature_importances_csv_path}\")\n"
   ],
   "id": "edb49ac3a147300b",
   "outputs": [
    {
     "name": "stdout",
     "output_type": "stream",
     "text": [
      "\n",
      "El mejor modelo es: linear_regression\n",
      "Con MSE de validación cruzada: 1414425048943.1414\n",
      "Mejores hiperparámetros: {'fit_intercept': True, 'n_jobs': None}\n"
     ]
    },
    {
     "ename": "NameError",
     "evalue": "name 'r2_score' is not defined",
     "output_type": "error",
     "traceback": [
      "\u001B[0;31m---------------------------------------------------------------------------\u001B[0m",
      "\u001B[0;31mNameError\u001B[0m                                 Traceback (most recent call last)",
      "Cell \u001B[0;32mIn[42], line 10\u001B[0m\n\u001B[1;32m      7\u001B[0m \u001B[38;5;28mprint\u001B[39m(\u001B[38;5;124m\"\u001B[39m\u001B[38;5;124mMejores hiperparámetros:\u001B[39m\u001B[38;5;124m\"\u001B[39m, results[best_model_name][\u001B[38;5;124m'\u001B[39m\u001B[38;5;124mbest_params\u001B[39m\u001B[38;5;124m'\u001B[39m])\n\u001B[1;32m      9\u001B[0m \u001B[38;5;66;03m# Evaluar el mejor modelo y calcular las métricas\u001B[39;00m\n\u001B[0;32m---> 10\u001B[0m metrics, predictions \u001B[38;5;241m=\u001B[39m evaluate_model(mejor_modelo, X_test, y_test, is_classification\u001B[38;5;241m=\u001B[39m\u001B[38;5;28;01mFalse\u001B[39;00m)\n\u001B[1;32m     12\u001B[0m \u001B[38;5;66;03m# Mostrar las métricas de rendimiento\u001B[39;00m\n\u001B[1;32m     13\u001B[0m \u001B[38;5;28mprint\u001B[39m(\u001B[38;5;124m\"\u001B[39m\u001B[38;5;130;01m\\n\u001B[39;00m\u001B[38;5;124mMétricas de rendimiento del mejor modelo:\u001B[39m\u001B[38;5;124m\"\u001B[39m)\n",
      "Cell \u001B[0;32mIn[38], line 12\u001B[0m, in \u001B[0;36mevaluate_model\u001B[0;34m(model, X_test, y_test, is_classification)\u001B[0m\n\u001B[1;32m     10\u001B[0m \u001B[38;5;28;01melse\u001B[39;00m:\n\u001B[1;32m     11\u001B[0m     mse \u001B[38;5;241m=\u001B[39m mean_squared_error(y_test, predictions)\n\u001B[0;32m---> 12\u001B[0m     r2 \u001B[38;5;241m=\u001B[39m r2_score(y_test, predictions)\n\u001B[1;32m     13\u001B[0m     metrics \u001B[38;5;241m=\u001B[39m {\n\u001B[1;32m     14\u001B[0m         \u001B[38;5;124m'\u001B[39m\u001B[38;5;124mMSE\u001B[39m\u001B[38;5;124m'\u001B[39m: mse,\n\u001B[1;32m     15\u001B[0m         \u001B[38;5;124m'\u001B[39m\u001B[38;5;124mR2-Score\u001B[39m\u001B[38;5;124m'\u001B[39m: r2\n\u001B[1;32m     16\u001B[0m     }\n\u001B[1;32m     17\u001B[0m \u001B[38;5;28;01mreturn\u001B[39;00m metrics, predictions\n",
      "\u001B[0;31mNameError\u001B[0m: name 'r2_score' is not defined"
     ]
    }
   ],
   "execution_count": 42
  },
  {
   "metadata": {},
   "cell_type": "code",
   "outputs": [],
   "execution_count": null,
   "source": "",
   "id": "17bd1b2156053aa"
  }
 ],
 "metadata": {
  "kernelspec": {
   "display_name": "Python 3",
   "language": "python",
   "name": "python3"
  },
  "language_info": {
   "codemirror_mode": {
    "name": "ipython",
    "version": 2
   },
   "file_extension": ".py",
   "mimetype": "text/x-python",
   "name": "python",
   "nbconvert_exporter": "python",
   "pygments_lexer": "ipython2",
   "version": "2.7.6"
  }
 },
 "nbformat": 4,
 "nbformat_minor": 5
}
